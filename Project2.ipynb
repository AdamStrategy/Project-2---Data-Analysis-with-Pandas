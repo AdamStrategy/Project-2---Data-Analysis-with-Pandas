{
 "cells": [
  {
   "cell_type": "markdown",
   "metadata": {},
   "source": [
    "All of The data for these questions comes from Real_Estate_Sales_2001_2021. The goal of these questions is to analyze the data and draw conclusions from it."
   ]
  },
  {
   "cell_type": "markdown",
   "metadata": {},
   "source": [
    "QUESTION #1: What is the average price a house was sold for from 2001 to 2021?"
   ]
  },
  {
   "cell_type": "code",
   "execution_count": null,
   "metadata": {},
   "outputs": [],
   "source": [
    "import pandas as pd\n",
    "\n",
    "## take in csv\n",
    "df = pd.read_csv('Real_Estate_Sales_2001-2021_GL.csv')\n",
    "\n",
    "## print average price\n",
    "print(df['Sale Amount'].mean().round(2))"
   ]
  },
  {
   "cell_type": "markdown",
   "metadata": {},
   "source": [
    "QUESTION #1 ANALYSIS: For this problem the code is very straightforward, we take in the data using pandas then we use the mean function to get the average sale price. The average sale price of a home from 2001 to 2021 seems to be around $400,000."
   ]
  },
  {
   "cell_type": "markdown",
   "metadata": {},
   "source": [
    "QUESTION #2: What is the highest sale price recorded in the database, and in which year did it occur?"
   ]
  },
  {
   "cell_type": "code",
   "execution_count": null,
   "metadata": {},
   "outputs": [],
   "source": [
    "import pandas as pd\n",
    "\n",
    "## take in csv\n",
    "df = pd.read_csv('Real_Estate_Sales_2001-2021_GL.csv')\n",
    "\n",
    "## get highest sale price nad year\n",
    "highest = df['Sale Amount'].max().round(2)\n",
    "year = df.loc[df['Sale Amount'] == highest, 'List Year'].values[0]\n",
    "\n",
    "print(\"highest price is $\" + str(highest) + \" in \" + str(year))\n"
   ]
  },
  {
   "cell_type": "markdown",
   "metadata": {},
   "source": [
    "QUESTION #2 ANALYSIS: This code just gets the highest sale price and the year that the house was sold. The highest sale price is $5000000000 and it was sold in 2020"
   ]
  },
  {
   "cell_type": "markdown",
   "metadata": {},
   "source": [
    "QUESTION #3: How many single-family homes were sold each year from 2001 to 2021?"
   ]
  },
  {
   "cell_type": "code",
   "execution_count": null,
   "metadata": {},
   "outputs": [],
   "source": [
    "import pandas as pd\n",
    "import matplotlib.pyplot as plt\n",
    "\n",
    "## take in csv and clean data\n",
    "df = pd.read_csv('Real_Estate_Sales_2001-2021_GL.csv')\n",
    "df = df[['List Year', 'Residential Type']].where(df['Residential Type'] == 'Single Family').dropna()\n",
    "\n",
    "## group by year and get count\n",
    "df = df.groupby(df['List Year'])['Residential Type'].count()\n",
    "\n",
    "## make bar graph\n",
    "plt.figure(figsize=(10, 6))\n",
    "plt.bar(df.index, df)\n",
    "plt.xlabel('Year')\n",
    "plt.ylabel('Number of Sales')\n",
    "plt.title('Number of Single-Family Homes Sold (2001-2021)')"
   ]
  },
  {
   "cell_type": "markdown",
   "metadata": {},
   "source": [
    "QUESTION #3 ANALYSIS: The code here gets the count of single family homes sold grouped by year, then makes a graph to visualise the change. From this, we can see That there was a dip in single family homes being sold in 2010 and 2011, From then on the number increased."
   ]
  },
  {
   "cell_type": "markdown",
   "metadata": {},
   "source": [
    "QUESTION #4: What is the average sale price of houses for each year?"
   ]
  },
  {
   "cell_type": "code",
   "execution_count": null,
   "metadata": {},
   "outputs": [],
   "source": [
    "import pandas as pd\n",
    "\n",
    "## take in csv\n",
    "df = pd.read_csv('Real_Estate_Sales_2001-2021_GL.csv')\n",
    "df = df[['List Year', 'Sale Amount']]\n",
    "\n",
    "## group by year and get average sale amount\n",
    "df = df.groupby(df['List Year'])['Sale Amount'].mean().round(2)\n",
    "\n",
    "print(df)"
   ]
  },
  {
   "cell_type": "markdown",
   "metadata": {},
   "source": [
    "QUESTION #4 ANALYSIS: The code here removes all columns except for list year and sale amount, then groups by list year and gets the mean sale amount for each year. With this we can see the average sale price of every house for the year."
   ]
  },
  {
   "cell_type": "markdown",
   "metadata": {},
   "source": [
    "QUESTION #5: How has the sales price of houses changed over the years?"
   ]
  },
  {
   "cell_type": "code",
   "execution_count": null,
   "metadata": {},
   "outputs": [],
   "source": [
    "import pandas as pd\n",
    "import matplotlib.pyplot as plt\n",
    "\n",
    "# Gather Data\n",
    "df = pd.read_csv('Real_Estate_Sales_2001-2021_GL.csv')\n",
    "df.dropna(subset=['List Year', 'Sale Amount'], inplace=True)\n",
    "\n",
    "df_filtered = df[df['Sale Amount'] < 5000000]\n",
    "\n",
    "# Make Plot \n",
    "plt.figure(figsize=(10, 6))\n",
    "boxplot = df_filtered.boxplot(column='Sale Amount', by='List Year', figsize=(12, 6), grid=False, showfliers=False)\n",
    "plt.title('Boxplots of Sale Amount (in millions) Grouped by Year')\n",
    "plt.xlabel('List Year')\n",
    "plt.ylabel('Sale Amount (in $)')\n",
    "plt.xticks(rotation=45)\n",
    "plt.tight_layout()\n",
    "plt.show()"
   ]
  },
  {
   "cell_type": "markdown",
   "metadata": {},
   "source": [
    "QUESTION #5 ANALYSIS: This code uses pandas and matplotlib to create boxplots for the sale amounts by year. From this, we can see that the average sale price of houses peaked in 2006, and seems to be heading towards a new peak in 2021."
   ]
  },
  {
   "cell_type": "markdown",
   "metadata": {},
   "source": [
    "QUESTION #6: How has the sales ratio of houses changed over the years? (sales ratio = predicted value / sell price)"
   ]
  },
  {
   "cell_type": "code",
   "execution_count": null,
   "metadata": {},
   "outputs": [],
   "source": [
    "import pandas as pd\n",
    "import matplotlib.pyplot as plt\n",
    "\n",
    "# Gather Data\n",
    "df = pd.read_csv('Real_Estate_Sales_2001-2021_GL.csv')\n",
    "df.dropna(subset=['List Year', 'Sale Amount'], inplace=True)\n",
    "\n",
    "df_filtered = df[df['Sale Amount'] < 5000000]\n",
    "\n",
    "# make Plot\n",
    "plt.figure(figsize=(10, 6))\n",
    "boxplot = df_filtered.boxplot(column='Sales Ratio', by='List Year', figsize=(12, 6), grid=False, showfliers=False)\n",
    "plt.title('Sales Ration by Year')\n",
    "plt.xlabel('List Year')\n",
    "plt.ylabel('Sale Ratio')\n",
    "plt.xticks(rotation=45)\n",
    "plt.tight_layout()\n",
    "plt.show()"
   ]
  },
  {
   "cell_type": "markdown",
   "metadata": {},
   "source": [
    "QUESTION #6 ANALYSIS: The code here is very similar to last problem, However, we change the sale price with the sale ratio. From this we can see that the average sale ratio was at its lowest in 2005 and at its highest in 2011."
   ]
  }
 ],
 "metadata": {
  "kernelspec": {
   "display_name": "Python 3",
   "language": "python",
   "name": "python3"
  },
  "language_info": {
   "codemirror_mode": {
    "name": "ipython",
    "version": 3
   },
   "file_extension": ".py",
   "mimetype": "text/x-python",
   "name": "python",
   "nbconvert_exporter": "python",
   "pygments_lexer": "ipython3",
   "version": "3.11.9"
  }
 },
 "nbformat": 4,
 "nbformat_minor": 2
}
